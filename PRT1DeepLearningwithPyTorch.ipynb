{
  "cells": [
    {
      "cell_type": "code",
      "execution_count": null,
      "metadata": {
        "id": "ZiKQ-yqFjPqR"
      },
      "outputs": [],
      "source": [
        "import pandas as pd\n",
        "from torch.utils.data import Dataset, DataLoader, random_split"
      ]
    },
    {
      "cell_type": "code",
      "execution_count": null,
      "metadata": {
        "id": "NHKIPW1wjYqp"
      },
      "outputs": [],
      "source": [
        "class data(Dataset):\n",
        "  def __init__(self, file):\n",
        "    self.file = pd.read_csv(file).to_numpy()\n",
        "\n",
        "  def __len__(self):\n",
        "     return self.file.shape[0]\n",
        "\n",
        "  def __getitem__(self, idx):\n",
        "      features = self.file[idx, :-1]\n",
        "      label = self.file[idx, -1]\n",
        "      return features, label"
      ]
    },
    {
      "cell_type": "code",
      "execution_count": null,
      "metadata": {
        "id": "oG4otL_ouOG4"
      },
      "outputs": [],
      "source": [
        "dataset = data(\"water_potability.csv\")"
      ]
    },
    {
      "cell_type": "code",
      "execution_count": null,
      "metadata": {
        "id": "pTVDjroQuOCr"
      },
      "outputs": [],
      "source": [
        "train_size = int(0.8 * len(dataset))\n",
        "val_size = len(dataset) - train_size\n",
        "train_dataset, val_dataset = torch.utils.data.random_split(dataset, [train_size, val_size])"
      ]
    },
    {
      "cell_type": "code",
      "execution_count": null,
      "metadata": {
        "id": "xWlZjem7kSjx"
      },
      "outputs": [],
      "source": [
        "train_dataloader = DataLoader(train_dataset, batch_size=5, shuffle=True)\n",
        "val_dataloader = DataLoader(val_dataset, batch_size=5, shuffle=False)\n",
        "features, labels = next(iter(train_dataloader))"
      ]
    },
    {
      "cell_type": "code",
      "execution_count": null,
      "metadata": {
        "id": "ekHEPjXglvRV"
      },
      "outputs": [],
      "source": [
        "import torch.nn as nn\n",
        "class NeuralNet(nn.Module):\n",
        "  def __init__(self):\n",
        "    super(NeuralNet, self).__init__()\n",
        "    self.fc1 = nn.Linear(9, 18)\n",
        "    self.fc2 = nn.Linear(18, 6)\n",
        "    self.fc3 = nn.Linear(6, 1)\n",
        "    self.dropout = nn.Dropout(0.2)\n",
        "\n",
        "  def forward(self, x):\n",
        "    x = nn.functional.relu(self.fc1(x))\n",
        "    x = self.dropout(x)\n",
        "    x = nn.functional.relu(self.fc2(x))\n",
        "    x = self.dropout(x)\n",
        "    x = nn.functional.sigmoid(self.fc3(x))\n",
        "    return x\n",
        "\n",
        "model = NeuralNet()"
      ]
    },
    {
      "cell_type": "code",
      "execution_count": null,
      "metadata": {
        "colab": {
          "background_save": true,
          "base_uri": "https://localhost:8080/"
        },
        "id": "IJwBY6Tam2eM",
        "outputId": "92d6156a-d124-4d58-ad99-87b7c742fc4c"
      },
      "outputs": [
        {
          "name": "stdout",
          "output_type": "stream",
          "text": [
            "Epoch: 1, Training Loss: 0.5814967471527757, Validation Loss: 0.6100543608636032, Validation Accuracy: 0.6600496172904968\n",
            "Epoch: 2, Training Loss: 0.5808926292735598, Validation Loss: 0.5982466283035867, Validation Accuracy: 0.6898263096809387\n",
            "Epoch: 3, Training Loss: 0.5658968502875441, Validation Loss: 0.5994070865857748, Validation Accuracy: 0.692307710647583\n",
            "Epoch: 4, Training Loss: 0.5793376640410897, Validation Loss: 0.6028707881032684, Validation Accuracy: 0.6749379634857178\n",
            "Epoch: 5, Training Loss: 0.5724399444757041, Validation Loss: 0.6053879785316961, Validation Accuracy: 0.6699751615524292\n",
            "Epoch: 6, Training Loss: 0.5889078454571481, Validation Loss: 0.603955959096367, Validation Accuracy: 0.6625310182571411\n",
            "Epoch: 7, Training Loss: 0.5829154649136229, Validation Loss: 0.6109615660008089, Validation Accuracy: 0.6724565625190735\n",
            "Epoch: 8, Training Loss: 0.5797067416010436, Validation Loss: 0.6004465906708328, Validation Accuracy: 0.6749379634857178\n",
            "Epoch: 9, Training Loss: 0.5808001735843487, Validation Loss: 0.5934765073988173, Validation Accuracy: 0.6799007654190063\n",
            "Epoch: 10, Training Loss: 0.5787462320479547, Validation Loss: 0.5972658197085062, Validation Accuracy: 0.6823821067810059\n",
            "Epoch: 11, Training Loss: 0.5747078657150269, Validation Loss: 0.5974206917079878, Validation Accuracy: 0.6823821067810059\n",
            "Epoch: 12, Training Loss: 0.5860831708363865, Validation Loss: 0.6098748927499041, Validation Accuracy: 0.6699751615524292\n",
            "Epoch: 13, Training Loss: 0.5802207942704977, Validation Loss: 0.5934275727213165, Validation Accuracy: 0.6823821067810059\n",
            "Epoch: 14, Training Loss: 0.5791991319715607, Validation Loss: 0.6050489371941413, Validation Accuracy: 0.6749379634857178\n",
            "Epoch: 15, Training Loss: 0.5800507419412921, Validation Loss: 0.6003066531302016, Validation Accuracy: 0.6774193644523621\n",
            "Epoch: 16, Training Loss: 0.5779390713165266, Validation Loss: 0.6096645341611203, Validation Accuracy: 0.6749379634857178\n",
            "Epoch: 17, Training Loss: 0.5790680773232294, Validation Loss: 0.5935898154606054, Validation Accuracy: 0.6898263096809387\n",
            "Epoch: 18, Training Loss: 0.5812939960069908, Validation Loss: 0.6060397034441983, Validation Accuracy: 0.6799007654190063\n",
            "Epoch: 19, Training Loss: 0.5873688931883492, Validation Loss: 0.6100001456560912, Validation Accuracy: 0.6600496172904968\n",
            "Epoch: 20, Training Loss: 0.5805181991424619, Validation Loss: 0.5916196019561203, Validation Accuracy: 0.6873449087142944\n",
            "Epoch: 21, Training Loss: 0.5751733488825538, Validation Loss: 0.5967890697496908, Validation Accuracy: 0.6898263096809387\n",
            "Epoch: 22, Training Loss: 0.5744907930956124, Validation Loss: 0.5993929201806033, Validation Accuracy: 0.6823821067810059\n",
            "Epoch: 23, Training Loss: 0.5701362526287204, Validation Loss: 0.6039871161366687, Validation Accuracy: 0.6650124192237854\n",
            "Epoch: 24, Training Loss: 0.5651378392803003, Validation Loss: 0.6055767256536602, Validation Accuracy: 0.6823821067810059\n",
            "Epoch: 25, Training Loss: 0.578800567327449, Validation Loss: 0.5997312589560027, Validation Accuracy: 0.6749379634857178\n",
            "Epoch: 26, Training Loss: 0.5702585273462794, Validation Loss: 0.5997218723282401, Validation Accuracy: 0.6724565625190735\n",
            "Epoch: 27, Training Loss: 0.5807280329906422, Validation Loss: 0.6029775893246686, Validation Accuracy: 0.6799007654190063\n",
            "Epoch: 28, Training Loss: 0.5739887300300301, Validation Loss: 0.6011029450613775, Validation Accuracy: 0.692307710647583\n",
            "Epoch: 29, Training Loss: 0.5797400058056257, Validation Loss: 0.5990740647654474, Validation Accuracy: 0.6774193644523621\n",
            "Epoch: 30, Training Loss: 0.5723268347127097, Validation Loss: 0.6080065939897372, Validation Accuracy: 0.6724565625190735\n",
            "Epoch: 31, Training Loss: 0.5786443049122828, Validation Loss: 0.612097300865032, Validation Accuracy: 0.6674938201904297\n",
            "Epoch: 32, Training Loss: 0.5797928168166498, Validation Loss: 0.6057216225214946, Validation Accuracy: 0.6674938201904297\n",
            "Epoch: 33, Training Loss: 0.5765103143379555, Validation Loss: 0.5913339255400646, Validation Accuracy: 0.6898263096809387\n",
            "Epoch: 34, Training Loss: 0.571296137867507, Validation Loss: 0.6017773454939878, Validation Accuracy: 0.6799007654190063\n",
            "Epoch: 35, Training Loss: 0.5720256997376495, Validation Loss: 0.6080871759741394, Validation Accuracy: 0.6774193644523621\n",
            "Epoch: 36, Training Loss: 0.5775031912493409, Validation Loss: 0.6285568047084926, Validation Accuracy: 0.6625310182571411\n",
            "Epoch: 37, Training Loss: 0.575835014768639, Validation Loss: 0.5969438436958525, Validation Accuracy: 0.6724565625190735\n",
            "Epoch: 38, Training Loss: 0.5733873071785299, Validation Loss: 0.606806516279409, Validation Accuracy: 0.6699751615524292\n",
            "Epoch: 39, Training Loss: 0.583651788069965, Validation Loss: 0.6078026802451523, Validation Accuracy: 0.6799007654190063\n",
            "Epoch: 40, Training Loss: 0.5816360073892967, Validation Loss: 0.5949500889321904, Validation Accuracy: 0.6848635077476501\n",
            "Epoch: 41, Training Loss: 0.589755350897401, Validation Loss: 0.5973067921988758, Validation Accuracy: 0.6749379634857178\n",
            "Epoch: 42, Training Loss: 0.5810831521886476, Validation Loss: 0.605964727975704, Validation Accuracy: 0.6774193644523621\n",
            "Epoch: 43, Training Loss: 0.5810494561280523, Validation Loss: 0.5992256877598939, Validation Accuracy: 0.6749379634857178\n",
            "Epoch: 44, Training Loss: 0.5774513988853982, Validation Loss: 0.6131416450680038, Validation Accuracy: 0.6749379634857178\n",
            "Epoch: 45, Training Loss: 0.5857210885617674, Validation Loss: 0.5948389008825208, Validation Accuracy: 0.6799007654190063\n",
            "Epoch: 46, Training Loss: 0.5789192255054202, Validation Loss: 0.6158378589668392, Validation Accuracy: 0.6699751615524292\n",
            "Epoch: 47, Training Loss: 0.5837935748400155, Validation Loss: 0.6043638719452752, Validation Accuracy: 0.6650124192237854\n",
            "Epoch: 48, Training Loss: 0.5741042610928879, Validation Loss: 0.6059444379291417, Validation Accuracy: 0.6749379634857178\n",
            "Epoch: 49, Training Loss: 0.5722186833805178, Validation Loss: 0.6167831084242573, Validation Accuracy: 0.6600496172904968\n",
            "Epoch: 50, Training Loss: 0.5793055775372878, Validation Loss: 0.6014405498166143, Validation Accuracy: 0.6774193644523621\n",
            "Epoch: 51, Training Loss: 0.5712146245822403, Validation Loss: 0.5954190336259795, Validation Accuracy: 0.692307710647583\n",
            "Epoch: 52, Training Loss: 0.5716676843925292, Validation Loss: 0.6104424914092194, Validation Accuracy: 0.6650124192237854\n",
            "Epoch: 53, Training Loss: 0.5803931235156444, Validation Loss: 0.6037170809728128, Validation Accuracy: 0.6774193644523621\n",
            "Epoch: 54, Training Loss: 0.5641460748192686, Validation Loss: 0.6305224341742787, Validation Accuracy: 0.6203473806381226\n",
            "Epoch: 55, Training Loss: 0.5780909939304643, Validation Loss: 0.6130638768275579, Validation Accuracy: 0.6674938201904297\n",
            "Epoch: 56, Training Loss: 0.5804924599780059, Validation Loss: 0.6019538210497962, Validation Accuracy: 0.6799007654190063\n",
            "Epoch: 57, Training Loss: 0.5855979314131766, Validation Loss: 0.611301906314897, Validation Accuracy: 0.6724565625190735\n",
            "Epoch: 58, Training Loss: 0.5886758454375386, Validation Loss: 0.5967429832175926, Validation Accuracy: 0.6947891116142273\n",
            "Epoch: 59, Training Loss: 0.5721174904741115, Validation Loss: 0.6031010329355428, Validation Accuracy: 0.6823821067810059\n",
            "Epoch: 60, Training Loss: 0.576890553145305, Validation Loss: 0.5922205587963999, Validation Accuracy: 0.6873449087142944\n",
            "Epoch: 61, Training Loss: 0.5834111238581053, Validation Loss: 0.5981256630685594, Validation Accuracy: 0.6873449087142944\n",
            "Epoch: 62, Training Loss: 0.5837433930972348, Validation Loss: 0.5939329702545095, Validation Accuracy: 0.6873449087142944\n",
            "Epoch: 63, Training Loss: 0.5788154392416432, Validation Loss: 0.606274437389256, Validation Accuracy: 0.6799007654190063\n",
            "Epoch: 64, Training Loss: 0.5820494690759582, Validation Loss: 0.6054490116643317, Validation Accuracy: 0.6724565625190735\n",
            "Epoch: 65, Training Loss: 0.5855380261536711, Validation Loss: 0.6014752932536749, Validation Accuracy: 0.6799007654190063\n",
            "Epoch: 66, Training Loss: 0.5735848707071742, Validation Loss: 0.6066839404312181, Validation Accuracy: 0.6749379634857178\n"
          ]
        }
      ],
      "source": [
        "import torch.optim as optim\n",
        "import numpy as np\n",
        "\n",
        "criterion = nn.BCELoss()\n",
        "optimizer = optim.Adam(model.parameters(), lr = 0.001, weight_decay = 1e-5)\n",
        "\n",
        "train_losses = []\n",
        "train_accuracies = []\n",
        "val_losses = []\n",
        "val_accuracies = []\n",
        "\n",
        "def compute_gradients():\n",
        "    gradients = []\n",
        "    for param in model.parameters():\n",
        "        if param.grad is not None:\n",
        "            gradients.append(param.grad.norm().item())\n",
        "    return gradients\n",
        "\n",
        "gradients_history = []\n",
        "\n",
        "for epoch in range(100):\n",
        "  epoch_train_loss = 0\n",
        "  model.train()\n",
        "  for features, labels in train_dataloader:\n",
        "    optimizer.zero_grad()\n",
        "    outputs = model(features.float())\n",
        "    loss = criterion(outputs, labels.float().view(-1, 1))\n",
        "    loss.backward()\n",
        "    gradients = compute_gradients()\n",
        "    gradients_history.append(gradients)\n",
        "    optimizer.step()\n",
        "    epoch_train_loss += loss.item()\n",
        "\n",
        "  avg_train_loss = epoch_train_loss / len(train_dataloader)\n",
        "  train_losses.append(avg_train_loss)\n",
        "\n",
        "\n",
        "  model.eval()\n",
        "  epoch_val_loss = 0\n",
        "  val_acc = Accuracy(task = \"binary\")\n",
        "  with torch.no_grad():\n",
        "    for features, labels in val_dataloader:\n",
        "      outputs = model(features.float())\n",
        "      loss = criterion(outputs, labels.float(). view(-1, 1))\n",
        "      epoch_val_loss += loss.item()\n",
        "\n",
        "      predictions = (outputs >= 0.5).float()\n",
        "      val_acc(predictions, labels.float().view(-1, 1))\n",
        "\n",
        "  avg_val_loss = epoch_val_loss / len(val_dataloader)\n",
        "  val_losses.append(avg_val_loss)\n",
        "\n",
        "  accuracy = val_acc.compute()\n",
        "  val_accuracies.append(accuracy)\n",
        "\n",
        "  print(f\"Epoch: {epoch+1}, Training Loss: {avg_train_loss}, Validation Loss: {avg_val_loss}, Validation Accuracy: {accuracy}\")"
      ]
    },
    {
      "cell_type": "code",
      "execution_count": null,
      "metadata": {
        "id": "-eolhPjyCZuh"
      },
      "outputs": [],
      "source": [
        "import matplotlib.pyplot as plt\n",
        "plt.figure(figsize=(12, 4))\n",
        "plt.subplot(1, 2, 1)\n",
        "plt.plot(train_losses, label='Training Loss')\n",
        "plt.plot(val_losses, label='Validation Loss')\n",
        "plt.xlabel('Epoch')\n",
        "plt.ylabel('Loss')\n",
        "plt.legend()\n",
        "plt.title('Training and Validation Loss')\n",
        "\n",
        "plt.subplot(1, 2, 2)\n",
        "plt.plot(train_accuracies, label='Training Accuracy')\n",
        "plt.plot(val_accuracies, label='Validation Accuracy')\n",
        "plt.xlabel('Epoch')\n",
        "plt.ylabel('Accuracy')\n",
        "plt.legend()\n",
        "plt.title('Training and Validation Accuracy')\n",
        "\n",
        "plt.show()"
      ]
    },
    {
      "cell_type": "code",
      "execution_count": null,
      "metadata": {
        "id": "ghgIu1VZ2ugq"
      },
      "outputs": [],
      "source": [
        "# Plot gradient norms\n",
        "plt.figure(figsize=(10, 5))\n",
        "plt.plot(gradients_history)\n",
        "plt.title('Gradient Norms Over Time')\n",
        "plt.xlabel('Training Step')\n",
        "plt.ylabel('Gradient Norm')\n",
        "plt.show()"
      ]
    },
    {
      "cell_type": "code",
      "execution_count": null,
      "metadata": {
        "id": "er4WhdId6tDb"
      },
      "outputs": [],
      "source": []
    }
  ],
  "metadata": {
    "colab": {
      "provenance": []
    },
    "kernelspec": {
      "display_name": "Python 3",
      "name": "python3"
    },
    "language_info": {
      "name": "python"
    }
  },
  "nbformat": 4,
  "nbformat_minor": 0
}